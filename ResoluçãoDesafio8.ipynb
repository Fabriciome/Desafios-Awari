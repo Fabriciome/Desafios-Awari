{
 "cells": [
  {
   "cell_type": "code",
   "execution_count": null,
   "metadata": {},
   "outputs": [],
   "source": [
    "#Escreva um script Python para encontrar as 10 palavras mais longas do arquivo de texto que está no diretório\n",
    "#br.challenges."
   ]
  },
  {
   "cell_type": "code",
   "execution_count": 2,
   "metadata": {},
   "outputs": [
    {
     "name": "stdout",
     "output_type": "stream",
     "text": [
      "{\\rtf1\\ansi\\ansicpg1252\\cocoartf2577\n",
      "\\cocoatextscaling0\\cocoaplatform0{\\fonttbl\\f0\\fmodern\\fcharset0 Courier;}\n",
      "{\\colortbl;\\red255\\green255\\blue255;\\red0\\green0\\blue0;}\n",
      "{\\*\\expandedcolortbl;;\\cssrgb\\c0\\c0\\c0;}\n",
      "\\paperw11900\\paperh16840\\margl1440\\margr1440\\vieww28600\\viewh14980\\viewkind0\n",
      "\\deftab720\n",
      "\\pard\\pardeftab720\\partightenfactor0\n",
      "\n",
      "\\f0\\fs24 \\cf2 \\expnd0\\expndtw0\\kerning0\n",
      "\\outl0\\strokewidth0 \\strokec2 What is Python language?                                                \\\n",
      "Python is a widely used high-level, general-purpose, interpreted, dynamic programming language.Its design philosophy emphasizes code readability, and its syntax allows programmers to express concepts in fewer lines of code than possible in \\\n",
      "languages such as C++ or Java. \\\n",
      "Python supports multiple programming paradigms, including object-oriented, imperative and functional programming or procedural styles.It features a dynamic type system and automatic memory management and has a large and comprehensive standard library.The best way we learn anything is by practice and exercise questions. We  have started this section for those (beginner to intermediate) who are familiar with Python.\\\n",
      "}\n"
     ]
    }
   ],
   "source": [
    "f = open(\"Desafio8.rtf\",'r') \n",
    "file_data = f.read() \n",
    "print(file_data)"
   ]
  },
  {
   "cell_type": "code",
   "execution_count": null,
   "metadata": {},
   "outputs": [],
   "source": [
    "file_data.split"
   ]
  },
  {
   "cell_type": "code",
   "execution_count": null,
   "metadata": {},
   "outputs": [],
   "source": []
  }
 ],
 "metadata": {
  "kernelspec": {
   "display_name": "Python 3",
   "language": "python",
   "name": "python3"
  },
  "language_info": {
   "codemirror_mode": {
    "name": "ipython",
    "version": 3
   },
   "file_extension": ".py",
   "mimetype": "text/x-python",
   "name": "python",
   "nbconvert_exporter": "python",
   "pygments_lexer": "ipython3",
   "version": "3.7.4"
  }
 },
 "nbformat": 4,
 "nbformat_minor": 2
}
