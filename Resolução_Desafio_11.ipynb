{
  "nbformat": 4,
  "nbformat_minor": 0,
  "metadata": {
    "colab": {
      "name": "Resolução_Desafio_11.ipynb",
      "provenance": [],
      "authorship_tag": "ABX9TyNZbDK+zOi5h34EA/Sl71Fc",
      "include_colab_link": true
    },
    "kernelspec": {
      "name": "python3",
      "display_name": "Python 3"
    },
    "language_info": {
      "name": "python"
    }
  },
  "cells": [
    {
      "cell_type": "markdown",
      "metadata": {
        "id": "view-in-github",
        "colab_type": "text"
      },
      "source": [
        "<a href=\"https://colab.research.google.com/github/Fabriciome/Desafios-Awari/blob/main/Resolu%C3%A7%C3%A3o_Desafio_11.ipynb\" target=\"_parent\"><img src=\"https://colab.research.google.com/assets/colab-badge.svg\" alt=\"Open In Colab\"/></a>"
      ]
    },
    {
      "cell_type": "markdown",
      "metadata": {
        "id": "qK8pKZcghIlc"
      },
      "source": [
        "Desafio 11\n",
        "Dados uma sequência com n números inteiros, determinar quantos números da sequência são pares e quantos são ímpares.\\ Por exemplo, para a sequência\n",
        "\n",
        "6   2   7  -5   8  -4\n",
        "\n",
        "a sua função deve retornar o número 4 para o número de pares e 2 para o de ímpares.\\ A saída deve ser um tupla contendo primeiramente o número de pares e em seguida o número de ímpares.\\ Para o exemplo **anterior**, a saída seria (4, 2).\n",
        "\n",
        "In [0]:\n",
        "# Seu código\n",
        "def contar_pares_impares(entrada):\n",
        "    pass"
      ]
    },
    {
      "cell_type": "code",
      "metadata": {
        "id": "6QyHZ1PHzKjs"
      },
      "source": [
        "lista = [6,2,7,-5,8,-4 ]\n",
        "par = []\n",
        "impar = []"
      ],
      "execution_count": 23,
      "outputs": []
    },
    {
      "cell_type": "code",
      "metadata": {
        "id": "T2ey6Xf5_B9F"
      },
      "source": [
        "def contar_pares_impares(lista):\n",
        "  for elemento in lista:\n",
        "    if elemento % 2 == 0:\n",
        "      par.append(elemento)\n",
        "    else: impar.append(elemento)\n",
        "    resultado = (len(par),len(impar))\n",
        "  return resultado"
      ],
      "execution_count": 24,
      "outputs": []
    },
    {
      "cell_type": "code",
      "metadata": {
        "colab": {
          "base_uri": "https://localhost:8080/"
        },
        "id": "DvAgb6GmBIkE",
        "outputId": "53aeac2c-a852-43a5-b9a2-53c00cb8939e"
      },
      "source": [
        "contar_pares_impares(lista)"
      ],
      "execution_count": 25,
      "outputs": [
        {
          "output_type": "execute_result",
          "data": {
            "text/plain": [
              "(4, 2)"
            ]
          },
          "metadata": {
            "tags": []
          },
          "execution_count": 25
        }
      ]
    },
    {
      "cell_type": "code",
      "metadata": {
        "id": "RkjNcBuxBMET"
      },
      "source": [
        ""
      ],
      "execution_count": null,
      "outputs": []
    }
  ]
}