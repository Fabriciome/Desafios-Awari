{
 "cells": [
  {
   "cell_type": "code",
   "execution_count": 36,
   "metadata": {},
   "outputs": [
    {
     "name": "stdout",
     "output_type": "stream",
     "text": [
      "['What', 'is', 'Python', 'language?', 'Python', 'is', 'a', 'widely', 'used', 'high-level,', 'general-purpose,', 'interpreted,', 'dynamic', 'programming', 'language.Its', 'design', 'philosophy', 'emphasizes', 'code', 'readability,', 'and', 'its', 'syntax', 'allows', 'programmers', 'to', 'express', 'concepts', 'in', 'fewer', 'lines', 'of', 'code', 'than', 'possible', 'in', 'languages', 'such', 'as', 'C++', 'or', 'Java.', 'Python', 'supports', 'multiple', 'programming', 'paradigms,', 'including', 'object-oriented,', 'imperative', 'and', 'functional', 'programming', 'or', 'procedural', 'styles.It', 'features', 'a', 'dynamic', 'type', 'system', 'and', 'automatic', 'memory', 'management', 'and', 'has', 'a', 'large', 'and', 'comprehensive', 'standard', 'library.The', 'best', 'way', 'we', 'learn', 'anything', 'is', 'by', 'practice', 'and', 'exercise', 'questions.', 'We', 'have', 'started', 'this', 'section', 'for', 'those', '(beginner', 'to', 'intermediate)', 'who', 'are', 'familiar', 'with', 'Python.']\n",
      "As 10 maiores palavras são:\n",
      "'general-purpose,', 'object-oriented,', 'comprehensive', 'intermediate)', 'interpreted,', 'language.Its', 'readability,', 'high-level,', 'programming', 'programmers'\n"
     ]
    }
   ],
   "source": [
    "with open('Texto.txt') as file:\n",
    "        data = file.read().split()\n",
    "        print(data)\n",
    "        tamanho = sorted(data, key=len, reverse=True)\n",
    "print(\"As 10 maiores palavras são:\")\n",
    "print(tamanho[0:10]).strip('[]'))"
   ]
  },
  {
   "cell_type": "code",
   "execution_count": null,
   "metadata": {},
   "outputs": [],
   "source": []
  },
  {
   "cell_type": "code",
   "execution_count": null,
   "metadata": {},
   "outputs": [],
   "source": []
  }
 ],
 "metadata": {
  "kernelspec": {
   "display_name": "Python 3",
   "language": "python",
   "name": "python3"
  },
  "language_info": {
   "codemirror_mode": {
    "name": "ipython",
    "version": 3
   },
   "file_extension": ".py",
   "mimetype": "text/x-python",
   "name": "python",
   "nbconvert_exporter": "python",
   "pygments_lexer": "ipython3",
   "version": "3.7.4"
  }
 },
 "nbformat": 4,
 "nbformat_minor": 2
}
