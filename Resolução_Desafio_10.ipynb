{
  "nbformat": 4,
  "nbformat_minor": 0,
  "metadata": {
    "kernelspec": {
      "display_name": "Python 3",
      "language": "python",
      "name": "python3"
    },
    "language_info": {
      "codemirror_mode": {
        "name": "ipython",
        "version": 3
      },
      "file_extension": ".py",
      "mimetype": "text/x-python",
      "name": "python",
      "nbconvert_exporter": "python",
      "pygments_lexer": "ipython3",
      "version": "3.7.4"
    },
    "colab": {
      "name": "Resolução_Desafio_10.ipynb",
      "provenance": []
    }
  },
  "cells": [
    {
      "cell_type": "code",
      "metadata": {
        "id": "U4q3Zgr27lpK"
      },
      "source": [
        "#Desafio 10\n",
        "#Dada uma lista, divida-a em 3 partes iguais e reverta a ordem de cada lista.\n",
        "\n",
        "#Entrada: \\ sampleList = [11, 45, 8, 23, 14, 12, 78, 45, 89]\n",
        "\n",
        "#Saída: \\ Parte 1 [8, 45, 11] \\ Parte 2 [12, 14, 23] \\ Parte 3 [89, 45, 78]"
      ],
      "execution_count": null,
      "outputs": []
    },
    {
      "cell_type": "code",
      "metadata": {
        "id": "jOAVVYJK7lpS"
      },
      "source": [
        "sampleList = [11, 45, 8, 23, 14, 12, 78, 45, 89]\n"
      ],
      "execution_count": 21,
      "outputs": []
    },
    {
      "cell_type": "code",
      "metadata": {
        "id": "_7yu_9-M7lpS"
      },
      "source": [
        "nova_lista1 = sampleList[0:3]\n",
        "nova_lista1.reverse()\n",
        "nova_lista2 = sampleList[3:6]\n",
        "nova_lista2.reverse()\n",
        "nova_lista3 = sampleList[6:9]\n",
        "nova_lista3.reverse()\n",
        "#saida = nova_lista1 + nova_lista2 + nova_lista3 \n",
        "saida = [nova_lista1, nova_lista2, nova_lista3]"
      ],
      "execution_count": 22,
      "outputs": []
    },
    {
      "cell_type": "code",
      "metadata": {
        "id": "GnuFIenu9MrE",
        "outputId": "4099c90d-1ec3-46ee-872a-23bdbad1a60a",
        "colab": {
          "base_uri": "https://localhost:8080/"
        }
      },
      "source": [
        "print('parte 1', saida[0], 'parte 2', saida[1], 'parte 3', saida[2])"
      ],
      "execution_count": 25,
      "outputs": [
        {
          "output_type": "stream",
          "text": [
            "parte 1 [8, 45, 11] parte 2 [12, 14, 23] parte 3 [89, 45, 78]\n"
          ],
          "name": "stdout"
        }
      ]
    }
  ]
}