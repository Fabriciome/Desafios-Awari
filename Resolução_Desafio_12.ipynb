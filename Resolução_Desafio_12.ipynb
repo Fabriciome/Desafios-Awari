{
  "nbformat": 4,
  "nbformat_minor": 0,
  "metadata": {
    "anaconda-cloud": {},
    "colab": {
      "name": "Resolução_Desafio_12.ipynb",
      "provenance": [],
      "include_colab_link": true
    },
    "kernelspec": {
      "display_name": "Python 3",
      "language": "python",
      "name": "python3"
    },
    "language_info": {
      "codemirror_mode": {
        "name": "ipython",
        "version": 3
      },
      "file_extension": ".py",
      "mimetype": "text/x-python",
      "name": "python",
      "nbconvert_exporter": "python",
      "pygments_lexer": "ipython3",
      "version": "3.7.4"
    }
  },
  "cells": [
    {
      "cell_type": "markdown",
      "metadata": {
        "id": "view-in-github",
        "colab_type": "text"
      },
      "source": [
        "<a href=\"https://colab.research.google.com/github/Fabriciome/Desafios-Awari/blob/main/Resolu%C3%A7%C3%A3o_Desafio_12.ipynb\" target=\"_parent\"><img src=\"https://colab.research.google.com/assets/colab-badge.svg\" alt=\"Open In Colab\"/></a>"
      ]
    },
    {
      "cell_type": "markdown",
      "metadata": {
        "id": "AYHY2YXQf6J2"
      },
      "source": [
        "### Desafio 12\n",
        "\n",
        "Escreva uma função em Python para verificar a validade de uma senha.\n",
        "\n",
        "A senha deve ter:\n",
        "\n",
        "* Pelo menos 1 letra entre [a-z] e 1 letra entre [A-Z].\n",
        "* Pelo menos 1 número entre [0-9].\n",
        "* Pelo menos 1 caractere de [$ # @].\n",
        "* Comprimento mínimo de 6 caracteres.\n",
        "* Comprimento máximo de 16 caracteres.\n",
        "\n",
        "Entradas: \"12345678\", \"J3sus0\", \"#Te5t300\", \"J*90j12374\", \"Michheeul\", \"Monk3y6\"\n",
        "\n",
        "A saída deve ser a senha e um texto indicando se a senha é válida ou inválida:\n",
        "\n",
        "```\n",
        "\"1234\" - Senha inválida\n",
        "\"Qw#1234\" - Senha válida\n",
        "```"
      ]
    },
    {
      "cell_type": "code",
      "metadata": {
        "colab": {
          "base_uri": "https://localhost:8080/"
        },
        "id": "UGgtGYGGf6J3",
        "outputId": "ae457fae-91ea-4389-c234-8dc2f87c003b"
      },
      "source": [
        "print('crie uma senha observando as seguintes premissas:','\\n') \n",
        "print('A senha deve ter pelo menos 1 letra entre [a-z]', 'pelo menos 1 letra entre [A-Z]', 'Pelo menos 1 caractere de [%&*=!$ # @]', sep = '\\n')\n",
        "print('Pelo menos 1 número entre [0-9]', 'Comprimento mínimo de 6 caracteres e comprimento máximo de 16 caracteres', sep = '\\n') "
      ],
      "execution_count": 42,
      "outputs": [
        {
          "output_type": "stream",
          "text": [
            "crie uma senha observando as seguintes premissas: \n",
            "\n",
            "A senha deve ter pelo menos 1 letra entre [a-z]\n",
            "pelo menos 1 letra entre [A-Z]\n",
            "Pelo menos 1 caractere de [%&*=!$ # @]\n",
            "Pelo menos 1 número entre [0-9]\n",
            "Comprimento mínimo de 6 caracteres e comprimento máximo de 16 caracteres\n"
          ],
          "name": "stdout"
        }
      ]
    },
    {
      "cell_type": "code",
      "metadata": {
        "id": "BtUqXQ1GXPX3"
      },
      "source": [
        "senha = input('digite uma senha:')"
      ],
      "execution_count": null,
      "outputs": []
    },
    {
      "cell_type": "code",
      "metadata": {
        "id": "1tUsX4d1XPX6"
      },
      "source": [
        "import re\n",
        "def verifica_senha(senha):\n",
        " min_number = 1\n",
        " min_upper_char = 1\n",
        " min_lower_char = 1\n",
        " min_special_char = 1\n",
        " min_len = 6\n",
        " max_len = 16\n",
        " \n",
        " if len(senha) < min_len:\n",
        "   print('Tamanho minimo de:', min_len)\n",
        " if len(senha) > max_len:\n",
        "     print('Tamanho máximo de:', max_len)\n",
        " if len(re.findall(r\"[A-Z]\", senha)) < min_upper_char:\n",
        "     print('Precisa conter maiúsculas!', min_upper_char)\n",
        " if len(re.findall(r\"[a-z]\", senha)) < min_lower_char:\n",
        "     print('Precisa conter minúsculas!', min_lower_char)\n",
        " if len(re.findall(r\"[0–9]\", senha)) < min_number:\n",
        "     print('Precisa conter números!', min_number)\n",
        " if len(re.findall(r\"[=&%!*@#$]\", senha)) < min_special_char:\n",
        "     print('Precisa conter caracteres especiais \"@#$\"', min_special_char)\n",
        " else:\n",
        "     print('senha validada')\n",
        " "
      ],
      "execution_count": 44,
      "outputs": []
    },
    {
      "cell_type": "code",
      "metadata": {
        "id": "CBG8ApYgXPX6"
      },
      "source": [
        "verifica_senha(senha)"
      ],
      "execution_count": null,
      "outputs": []
    },
    {
      "cell_type": "code",
      "metadata": {
        "id": "iF8EfZ3JaIZZ"
      },
      "source": [
        ""
      ],
      "execution_count": null,
      "outputs": []
    }
  ]
}