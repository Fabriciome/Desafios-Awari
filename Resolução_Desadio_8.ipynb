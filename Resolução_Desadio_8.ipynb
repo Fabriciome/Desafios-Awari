{
  "nbformat": 4,
  "nbformat_minor": 0,
  "metadata": {
    "colab": {
      "name": "Resolução_Desadio_8.ipynb",
      "provenance": [],
      "include_colab_link": true
    },
    "kernelspec": {
      "name": "python3",
      "display_name": "Python 3"
    },
    "language_info": {
      "name": "python"
    }
  },
  "cells": [
    {
      "cell_type": "markdown",
      "metadata": {
        "id": "view-in-github",
        "colab_type": "text"
      },
      "source": [
        "<a href=\"https://colab.research.google.com/github/Fabriciome/Desafios-Awari/blob/main/Resolu%C3%A7%C3%A3o_Desadio_8.ipynb\" target=\"_parent\"><img src=\"https://colab.research.google.com/assets/colab-badge.svg\" alt=\"Open In Colab\"/></a>"
      ]
    },
    {
      "cell_type": "code",
      "metadata": {
        "id": "oXNOFQEICkjA"
      },
      "source": [
        "#Escreva um script Python para encontrar as 10 palavras mais longas do arquivo de texto que está no diretório\n",
        "#br.challenges."
      ],
      "execution_count": null,
      "outputs": []
    },
    {
      "cell_type": "code",
      "metadata": {
        "id": "ZppPfwmrFSlz"
      },
      "source": [
        "\n",
        "with open('Texto.txt') as file:\n",
        "        data = file.read().split()\n",
        "        tamanho = sorted(data, key=len, reverse=True)\n",
        "        print(tamanho)\n",
        "        print(\"lista da 10 maiores palavras\")\n",
        "        tamanho[0:10]"
      ],
      "execution_count": null,
      "outputs": []
    }
  ]
}