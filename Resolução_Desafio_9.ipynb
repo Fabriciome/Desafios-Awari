{
  "nbformat": 4,
  "nbformat_minor": 0,
  "metadata": {
    "colab": {
      "name": "desafio9.ipynb",
      "provenance": [],
      "authorship_tag": "ABX9TyPjCpJTNT75S597zZ3RRx3H",
      "include_colab_link": true
    },
    "kernelspec": {
      "name": "python3",
      "display_name": "Python 3"
    },
    "language_info": {
      "name": "python"
    }
  },
  "cells": [
    {
      "cell_type": "markdown",
      "metadata": {
        "id": "view-in-github",
        "colab_type": "text"
      },
      "source": [
        "<a href=\"https://colab.research.google.com/github/Fabriciome/Desafios-Awari/blob/main/Resolu%C3%A7%C3%A3o_desafio_9.ipynb\" target=\"_parent\"><img src=\"https://colab.research.google.com/assets/colab-badge.svg\" alt=\"Open In Colab\"/></a>"
      ]
    },
    {
      "cell_type": "markdown",
      "metadata": {
        "id": "uYrXCQjr5sQU"
      },
      "source": [
        "Desafio 9\n",
        "**Escreva uma função que retorne a soma dos múltiplos de 3 e 5 entre 0 e um número limite, que vai ser utilizado como parâmetro. \\ Por exemplo, se o limite for 20, ele retornará a soma de 3, 5, 6, 9, 10, 12, 15, 18, 20.**"
      ]
    },
    {
      "cell_type": "code",
      "metadata": {
        "id": "gYP--MqK5h-_"
      },
      "source": [
        "mult = []\n",
        "limite = 200"
      ],
      "execution_count": 1,
      "outputs": []
    },
    {
      "cell_type": "code",
      "metadata": {
        "id": "83X6bMSVUEwo"
      },
      "source": [
        "def soma_mult(mult):\n",
        "  for elemento in range (limite):\n",
        "    modulo_3 = elemento % 3\n",
        "    if (modulo_3 == 0):\n",
        "      mult.append(elemento)\n",
        "    modulo_5 = elemento % 5\n",
        "    if (modulo_5 == 0):\n",
        "      mult.append(elemento)\n",
        "  lista_sem_repeticoes = list(set(mult))\n",
        "  print(lista_sem_repeticoes)\n",
        "  soma = sum(lista_sem_repeticoes)\n",
        "  return soma"
      ],
      "execution_count": 2,
      "outputs": []
    },
    {
      "cell_type": "code",
      "metadata": {
        "colab": {
          "base_uri": "https://localhost:8080/"
        },
        "id": "3bzybrrhhOwC",
        "outputId": "eb3c14f9-e078-45f7-a752-773fd50ea1a0"
      },
      "source": [
        "soma_mult(mult)"
      ],
      "execution_count": 3,
      "outputs": [
        {
          "output_type": "stream",
          "text": [
            "[0, 3, 5, 6, 9, 10, 12, 15, 18, 20, 21, 24, 25, 27, 30, 33, 35, 36, 39, 40, 42, 45, 48, 50, 51, 54, 55, 57, 60, 63, 65, 66, 69, 70, 72, 75, 78, 80, 81, 84, 85, 87, 90, 93, 95, 96, 99, 100, 102, 105, 108, 110, 111, 114, 115, 117, 120, 123, 125, 126, 129, 130, 132, 135, 138, 140, 141, 144, 145, 147, 150, 153, 155, 156, 159, 160, 162, 165, 168, 170, 171, 174, 175, 177, 180, 183, 185, 186, 189, 190, 192, 195, 198]\n"
          ],
          "name": "stdout"
        },
        {
          "output_type": "execute_result",
          "data": {
            "text/plain": [
              "9168"
            ]
          },
          "metadata": {
            "tags": []
          },
          "execution_count": 3
        }
      ]
    }
  ]
}
